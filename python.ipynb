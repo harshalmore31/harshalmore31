{
 "cells": [
  {
   "cell_type": "markdown",
   "metadata": {},
   "source": [
    "## Python Programming Complete Course Notes\n",
    "## ======================================"
   ]
  },
  {
   "cell_type": "markdown",
   "metadata": {},
   "source": [
    "### Module 1: Introduction to Python Programming\n",
    "### ------------------------------------------"
   ]
  },
  {
   "cell_type": "code",
   "execution_count": 1,
   "metadata": {},
   "outputs": [
    {
     "name": "stdout",
     "output_type": "stream",
     "text": [
      "Hello World!\n",
      "13\n",
      "7\n",
      "30\n",
      "3.3333333333333335\n",
      "3\n",
      "1\n",
      "1000\n",
      "apple\n",
      "John\n"
     ]
    }
   ],
   "source": [
    "# 1.1 Basic Python Syntax and Data Types\n",
    "# ------------------------------------\n",
    "\n",
    "# Comments in Python\n",
    "# Single line comment starts with #\n",
    "''' Multi-line comment uses \n",
    "    triple quotes '''\n",
    "\n",
    "# Variables and Data Types\n",
    "x = 5           # Integer\n",
    "y = 3.14        # Float\n",
    "name = \"Python\" # String\n",
    "is_valid = True # Boolean\n",
    "\n",
    "# Print and Input statements\n",
    "print(\"Hello World!\")  # Basic print\n",
    "name = input(\"Enter your name: \")  # Taking input\n",
    "\n",
    "# Python Operators\n",
    "a = 10\n",
    "b = 3\n",
    "print(a + b)  # Addition: 13\n",
    "print(a - b)  # Subtraction: 7\n",
    "print(a * b)  # Multiplication: 30\n",
    "print(a / b)  # Division: 3.333...\n",
    "print(a // b) # Floor Division: 3\n",
    "print(a % b)  # Modulus: 1\n",
    "print(a ** b) # Exponent: 1000\n",
    "\n",
    "# 1.2 Data Structures\n",
    "# ------------------\n",
    "\n",
    "# Lists - Mutable ordered collection\n",
    "fruits = ['apple', 'banana', 'orange']\n",
    "fruits.append('grape')     # Add item\n",
    "fruits.remove('banana')    # Remove item\n",
    "print(fruits[0])          # Access element\n",
    "\n",
    "# Tuples - Immutable ordered collection\n",
    "coordinates = (10, 20)\n",
    "x, y = coordinates        # Tuple unpacking\n",
    "\n",
    "# Dictionaries - Key-value pairs\n",
    "person = {\n",
    "    'name': 'John',\n",
    "    'age': 25,\n",
    "    'city': 'New York'\n",
    "}\n",
    "print(person['name'])     # Access value\n",
    "person['email'] = 'john@example.com'  # Add new key-value\n",
    "\n",
    "# Sets - Unordered collection of unique elements\n",
    "numbers = {1, 2, 3, 3, 4} # Duplicates removed automatically\n",
    "numbers.add(5)            # Add element\n",
    "numbers.remove(2)         # Remove element"
   ]
  },
  {
   "cell_type": "markdown",
   "metadata": {},
   "source": [
    "### Module 2: Functions and File Handling\n",
    "### -----------------------------------"
   ]
  },
  {
   "cell_type": "code",
   "execution_count": 2,
   "metadata": {},
   "outputs": [],
   "source": [
    "# 2.1 Functions\n",
    "# ------------\n",
    "\n",
    "# Basic function definition\n",
    "def greet(name):\n",
    "    \"\"\"This is a docstring - function documentation\"\"\"\n",
    "    return f\"Hello, {name}!\"\n",
    "\n",
    "# Lambda function\n",
    "square = lambda x: x**2\n",
    "\n",
    "# Recursive function\n",
    "def factorial(n):\n",
    "    if n <= 1:\n",
    "        return 1\n",
    "    return n * factorial(n-1)\n",
    "\n",
    "# Function with multiple arguments\n",
    "def calculate_total(*args, **kwargs):\n",
    "    \"\"\"Function with variable arguments\"\"\"\n",
    "    sum_args = sum(args)\n",
    "    return sum_args\n",
    "\n",
    "# 2.2 File Handling\n",
    "# ----------------\n",
    "\n",
    "# Writing to a file\n",
    "with open('example.txt', 'w') as file:\n",
    "    file.write('Hello, World!')\n",
    "\n",
    "# Reading from a file\n",
    "with open('example.txt', 'r') as file:\n",
    "    content = file.read()\n"
   ]
  },
  {
   "cell_type": "markdown",
   "metadata": {},
   "source": [
    "### Module 3: Object Oriented Programming\n",
    "### -----------------------------------"
   ]
  },
  {
   "cell_type": "code",
   "execution_count": 3,
   "metadata": {},
   "outputs": [
    {
     "name": "stdout",
     "output_type": "stream",
     "text": [
      "Cannot divide by zero!\n",
      "This always executes\n"
     ]
    }
   ],
   "source": [
    "\n",
    "\n",
    "# 3.1 Classes and Objects\n",
    "class Car:\n",
    "    def __init__(self, brand, model):\n",
    "        self.brand = brand  # Public member\n",
    "        self._year = 2024   # Protected member\n",
    "        self.__mileage = 0  # Private member\n",
    "    \n",
    "    def drive(self, distance):\n",
    "        self.__mileage += distance\n",
    "        \n",
    "    def get_mileage(self):\n",
    "        return self.__mileage\n",
    "\n",
    "# 3.2 Inheritance and Exception Handling\n",
    "class ElectricCar(Car):\n",
    "    def __init__(self, brand, model, battery_capacity):\n",
    "        super().__init__(brand, model)\n",
    "        self.battery_capacity = battery_capacity\n",
    "\n",
    "# Exception Handling\n",
    "try:\n",
    "    result = 10 / 0\n",
    "except ZeroDivisionError:\n",
    "    print(\"Cannot divide by zero!\")\n",
    "finally:\n",
    "    print(\"This always executes\")\n",
    "\n"
   ]
  },
  {
   "cell_type": "markdown",
   "metadata": {},
   "source": [
    "### Module 4: GUI and Database\n",
    "### -------------------------"
   ]
  },
  {
   "cell_type": "code",
   "execution_count": 4,
   "metadata": {},
   "outputs": [],
   "source": [
    "\n",
    "\n",
    "# 4.1 Tkinter GUI\n",
    "import tkinter as tk\n",
    "\n",
    "def create_simple_gui():\n",
    "    root = tk.Tk()\n",
    "    root.title(\"Simple GUI\")\n",
    "    \n",
    "    # Creating widgets\n",
    "    label = tk.Label(root, text=\"Enter your name:\")\n",
    "    entry = tk.Entry(root)\n",
    "    button = tk.Button(root, text=\"Submit\")\n",
    "    \n",
    "    # Placing widgets\n",
    "    label.pack()\n",
    "    entry.pack()\n",
    "    button.pack()\n",
    "    \n",
    "    root.mainloop()\n",
    "\n",
    "# 4.2 Database Handling\n",
    "import sqlite3\n",
    "\n",
    "def database_operations():\n",
    "    # Connect to database\n",
    "    conn = sqlite3.connect('example.db')\n",
    "    cursor = conn.cursor()\n",
    "    \n",
    "    # Create table\n",
    "    cursor.execute('''CREATE TABLE IF NOT EXISTS users\n",
    "                     (id INTEGER PRIMARY KEY,\n",
    "                      name TEXT,\n",
    "                      email TEXT)''')\n",
    "    \n",
    "    # Insert record\n",
    "    cursor.execute(\"INSERT INTO users (name, email) VALUES (?, ?)\",\n",
    "                  (\"John Doe\", \"john@example.com\"))\n",
    "    \n",
    "    # Query data\n",
    "    cursor.execute(\"SELECT * FROM users\")\n",
    "    results = cursor.fetchall()\n",
    "    \n",
    "    conn.commit()\n",
    "    conn.close()"
   ]
  }
 ],
 "metadata": {
  "kernelspec": {
   "display_name": "Python 3",
   "language": "python",
   "name": "python3"
  },
  "language_info": {
   "codemirror_mode": {
    "name": "ipython",
    "version": 3
   },
   "file_extension": ".py",
   "mimetype": "text/x-python",
   "name": "python",
   "nbconvert_exporter": "python",
   "pygments_lexer": "ipython3",
   "version": "3.12.6"
  }
 },
 "nbformat": 4,
 "nbformat_minor": 2
}
